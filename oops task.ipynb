{
 "cells": [
  {
   "cell_type": "code",
   "execution_count": 24,
   "id": "81db975c-45df-42d8-9a43-ed030e0cd0f2",
   "metadata": {},
   "outputs": [],
   "source": [
    "# ANS 1\n",
    "class vehicle :\n",
    "    def __init__(self, name_of_vehicle, max_speed, average_of_vehicle):\n",
    "        self.name = name_of_vehicle\n",
    "        self.max_speed = max_speed\n",
    "        self.average_of_vehicle= average_of_vehicle\n",
    "        \n",
    "    def vehicle_details(self):\n",
    "        print(self.name_of_vehicle , self.max_speed , self.average_of_vehicle) "
   ]
  },
  {
   "cell_type": "code",
   "execution_count": 25,
   "id": "eae47ef5-76a4-4e6c-a21a-e9243c0e43fb",
   "metadata": {},
   "outputs": [],
   "source": [
    "maruti = vehicle(\"dzire\" , 240 , 21)"
   ]
  },
  {
   "cell_type": "code",
   "execution_count": 27,
   "id": "e1e3608f-6ed2-4863-b39e-8d2eb1511fa1",
   "metadata": {},
   "outputs": [
    {
     "data": {
      "text/plain": [
       "'dzire'"
      ]
     },
     "execution_count": 27,
     "metadata": {},
     "output_type": "execute_result"
    }
   ],
   "source": [
    "maruti.name"
   ]
  },
  {
   "cell_type": "code",
   "execution_count": 28,
   "id": "3e86e2d3-782a-4a26-8f5f-f3c5e7f38924",
   "metadata": {},
   "outputs": [
    {
     "data": {
      "text/plain": [
       "240"
      ]
     },
     "execution_count": 28,
     "metadata": {},
     "output_type": "execute_result"
    }
   ],
   "source": [
    "maruti.max_speed"
   ]
  },
  {
   "cell_type": "code",
   "execution_count": 29,
   "id": "199d63e9-dfd6-41a0-b17e-df47d5d52eba",
   "metadata": {},
   "outputs": [
    {
     "data": {
      "text/plain": [
       "21"
      ]
     },
     "execution_count": 29,
     "metadata": {},
     "output_type": "execute_result"
    }
   ],
   "source": [
    "maruti.average_of_vehicle"
   ]
  },
  {
   "cell_type": "code",
   "execution_count": 213,
   "id": "65d4820c-b60c-4d5e-a9e0-ef57a91cb9e4",
   "metadata": {},
   "outputs": [],
   "source": [
    "# ANS 2\n",
    "\n",
    "class vehicle1 :\n",
    "    def __init__(self, name_of_vehicle):\n",
    "        self.name = name_of_vehicle\n",
    "        \n"
   ]
  },
  {
   "cell_type": "code",
   "execution_count": 216,
   "id": "5111b656-f476-4b4d-aae3-392525eac354",
   "metadata": {},
   "outputs": [],
   "source": [
    "class car(vehicle1):\n",
    "    def seating_capacity(self , capacity):\n",
    "        self.capacity = capacity\n",
    "        \n",
    "    def car_details(self):\n",
    "        print (\"name of the car is\", self.name , \"and its\" , self.capacity)"
   ]
  },
  {
   "cell_type": "code",
   "execution_count": 217,
   "id": "775750f9-f40b-47f1-bad2-44c6c75862db",
   "metadata": {},
   "outputs": [],
   "source": [
    "car1 = car(\"dziree\")"
   ]
  },
  {
   "cell_type": "code",
   "execution_count": 218,
   "id": "b06de420-f798-497e-9f8a-d3be242f36d8",
   "metadata": {},
   "outputs": [
    {
     "data": {
      "text/plain": [
       "'dziree'"
      ]
     },
     "execution_count": 218,
     "metadata": {},
     "output_type": "execute_result"
    }
   ],
   "source": [
    "car1.name"
   ]
  },
  {
   "cell_type": "code",
   "execution_count": 219,
   "id": "7313c407-c9e5-4709-850f-d73bccf9a1d3",
   "metadata": {},
   "outputs": [],
   "source": [
    "car1.seating_capacity(\"5 seater\")"
   ]
  },
  {
   "cell_type": "code",
   "execution_count": 220,
   "id": "11f1ba52-6b88-4bf5-b298-56eb3637e404",
   "metadata": {},
   "outputs": [
    {
     "name": "stdout",
     "output_type": "stream",
     "text": [
      "name of the car is dziree and its 5 seater\n"
     ]
    }
   ],
   "source": [
    "car1.car_details()"
   ]
  },
  {
   "cell_type": "code",
   "execution_count": 228,
   "id": "f0b62844-28e6-4441-bd47-284b71b645a0",
   "metadata": {},
   "outputs": [],
   "source": [
    "# ANS 3 \n",
    "# multiple inheritance means where there is one derived class or child class which is derived by two or more parent class\n",
    "class class1:\n",
    "    def test1(self):\n",
    "        \n",
    "        return \"this is my first class\"\n",
    "class class2:\n",
    "    def test2(self):\n",
    "        return \"this is my second class\"\n",
    "    \n",
    "class class3(class1 , class2):\n",
    "    pass"
   ]
  },
  {
   "cell_type": "code",
   "execution_count": 230,
   "id": "44b6a35b-aaa4-4aa1-876d-e7eee76fbeab",
   "metadata": {},
   "outputs": [],
   "source": [
    "obj = class3()"
   ]
  },
  {
   "cell_type": "code",
   "execution_count": 231,
   "id": "d79e7637-d2bf-4c7b-ac48-814022d1391f",
   "metadata": {},
   "outputs": [
    {
     "data": {
      "text/plain": [
       "'this is my second class'"
      ]
     },
     "execution_count": 231,
     "metadata": {},
     "output_type": "execute_result"
    }
   ],
   "source": [
    "obj.test2()"
   ]
  },
  {
   "cell_type": "code",
   "execution_count": 232,
   "id": "6b20ee01-6048-470e-aa8b-5be92f593bfa",
   "metadata": {},
   "outputs": [
    {
     "data": {
      "text/plain": [
       "'this is my first class'"
      ]
     },
     "execution_count": 232,
     "metadata": {},
     "output_type": "execute_result"
    }
   ],
   "source": [
    "obj.test1()"
   ]
  },
  {
   "cell_type": "code",
   "execution_count": 240,
   "id": "f9332e75-bf98-4a1c-90da-6c8abcf33873",
   "metadata": {},
   "outputs": [],
   "source": [
    "# ANS 4:\n",
    "# Getter: A method that allows you to access an attribute in a given class. \n",
    "# Setter: A method that allows you to set or mutate the value of an attribute in a class.\n",
    "\n",
    "class A :\n",
    "    def __init__(self , price , item):\n",
    "        self.__price = price\n",
    "        self.item =item\n",
    "    @property    \n",
    "    def price_access(self):\n",
    "        return self.__price\n",
    "    \n",
    "    @price_access.setter\n",
    "    def set_price(self,new_price):\n",
    "        if new_price < 500:\n",
    "            pass\n",
    "        else:\n",
    "            self.__price = new_price\n",
    "            \n",
    "            "
   ]
  },
  {
   "cell_type": "code",
   "execution_count": 241,
   "id": "cdeb7eee-046c-4a0b-88c1-8633c80c48bf",
   "metadata": {},
   "outputs": [],
   "source": [
    "obj = A(400 , \"pen\")"
   ]
  },
  {
   "cell_type": "code",
   "execution_count": 242,
   "id": "6bcf0446-9faf-4f83-b5ef-c27c9ad6c99a",
   "metadata": {},
   "outputs": [
    {
     "data": {
      "text/plain": [
       "400"
      ]
     },
     "execution_count": 242,
     "metadata": {},
     "output_type": "execute_result"
    }
   ],
   "source": [
    "obj.price_access # getter"
   ]
  },
  {
   "cell_type": "code",
   "execution_count": 247,
   "id": "bd5c90b3-7909-4e63-94ff-2392c3f29cf8",
   "metadata": {},
   "outputs": [],
   "source": [
    "obj.set_price = 700 #setter"
   ]
  },
  {
   "cell_type": "code",
   "execution_count": 248,
   "id": "b6439ee6-cd52-45fe-baaa-7b88ced17b32",
   "metadata": {},
   "outputs": [
    {
     "data": {
      "text/plain": [
       "700"
      ]
     },
     "execution_count": 248,
     "metadata": {},
     "output_type": "execute_result"
    }
   ],
   "source": [
    "obj.price_access"
   ]
  },
  {
   "cell_type": "code",
   "execution_count": 252,
   "id": "f7981947-918a-4184-955e-59a32c8e2ddd",
   "metadata": {},
   "outputs": [],
   "source": [
    "# ANS 5 :\n",
    "# METHOD OVERRIDING \n",
    "# when a child class has a same method name and same arguments and same return type with respect to parent class method\n",
    "# then it is said that method has been override by child class\n"
   ]
  },
  {
   "cell_type": "code",
   "execution_count": null,
   "id": "247bd2a2-f667-46f5-8519-92f0fca1c8bd",
   "metadata": {},
   "outputs": [],
   "source": []
  }
 ],
 "metadata": {
  "kernelspec": {
   "display_name": "Python 3 (ipykernel)",
   "language": "python",
   "name": "python3"
  },
  "language_info": {
   "codemirror_mode": {
    "name": "ipython",
    "version": 3
   },
   "file_extension": ".py",
   "mimetype": "text/x-python",
   "name": "python",
   "nbconvert_exporter": "python",
   "pygments_lexer": "ipython3",
   "version": "3.10.8"
  }
 },
 "nbformat": 4,
 "nbformat_minor": 5
}
